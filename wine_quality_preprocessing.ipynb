{
 "cells": [
  {
   "cell_type": "markdown",
   "id": "awful-deputy",
   "metadata": {},
   "source": [
    "###                                                             Wine Quality data preprocessing"
   ]
  },
  {
   "cell_type": "code",
   "execution_count": null,
   "id": "roman-chuck",
   "metadata": {},
   "outputs": [],
   "source": [
    "import pandas as pd\n",
    "import numpy as np\n",
    "import matplotlib.pyplot as plt\n",
    "import seaborn as sns\n",
    "import plotly.express as px\n",
    "\n",
    "from sklearn.preprocessing import OneHotEncoder, MinMaxScaler, StandardScaler\n",
    "from sklearn.model_selection import train_test_split\n",
    "from sklearn.metrics import accuracy_score, recall_score, precision_score, classification_report, plot_confusion_matrix\n",
    "from sklearn.model_selection import GridSearchCV\n",
    "from sklearn.model_selection import cross_val_score, cross_val_predict\n",
    "\n",
    "from sklearn.neighbors import KNeighborsClassifier\n",
    "from sklearn.ensemble import RandomForestClassifier\n",
    "from sklearn import svm\n",
    "from sklearn.ensemble import RandomForestClassifier\n",
    "from sklearn.linear_model import LogisticRegression\n",
    "\n",
    "import warnings\n",
    "warnings.filterwarnings('ignore')"
   ]
  },
  {
   "cell_type": "code",
   "execution_count": null,
   "id": "chemical-egyptian",
   "metadata": {},
   "outputs": [],
   "source": [
    "df = pd.read_csv('data/winequalityN.csv')\n",
    "df.head(5)"
   ]
  },
  {
   "cell_type": "code",
   "execution_count": null,
   "id": "postal-priest",
   "metadata": {},
   "outputs": [],
   "source": [
    "df.tail(5)"
   ]
  },
  {
   "cell_type": "code",
   "execution_count": null,
   "id": "mechanical-notion",
   "metadata": {},
   "outputs": [],
   "source": [
    "df.info()"
   ]
  },
  {
   "cell_type": "code",
   "execution_count": null,
   "id": "collective-syntax",
   "metadata": {},
   "outputs": [],
   "source": [
    "df.describe()"
   ]
  },
  {
   "cell_type": "markdown",
   "id": "hazardous-criminal",
   "metadata": {},
   "source": [
    "### Checking for missing values"
   ]
  },
  {
   "cell_type": "code",
   "execution_count": null,
   "id": "objective-scheme",
   "metadata": {},
   "outputs": [],
   "source": [
    "df.isna().sum()"
   ]
  },
  {
   "cell_type": "markdown",
   "id": "shared-aaron",
   "metadata": {},
   "source": [
    "### Replace missing values with mean of the corresponding column values"
   ]
  },
  {
   "cell_type": "code",
   "execution_count": null,
   "id": "received-correlation",
   "metadata": {},
   "outputs": [],
   "source": [
    "df.fillna(df.mean(), inplace=True)\n",
    "df.isna().sum()"
   ]
  },
  {
   "cell_type": "markdown",
   "id": "growing-impression",
   "metadata": {},
   "source": [
    "### One-hot-encoding the type column"
   ]
  },
  {
   "cell_type": "code",
   "execution_count": null,
   "id": "basic-relative",
   "metadata": {},
   "outputs": [],
   "source": [
    "df = pd.get_dummies(df)\n",
    "df"
   ]
  },
  {
   "cell_type": "code",
   "execution_count": null,
   "id": "tamil-bleeding",
   "metadata": {},
   "outputs": [],
   "source": [
    "sns.histplot(df[\"quality\"])"
   ]
  },
  {
   "cell_type": "code",
   "execution_count": null,
   "id": "found-competition",
   "metadata": {},
   "outputs": [],
   "source": [
    "X = df[df.columns.difference(df['quality'])]\n",
    "Y = df['quality']\n",
    "Y.value_counts()"
   ]
  },
  {
   "cell_type": "code",
   "execution_count": null,
   "id": "incorporate-treasurer",
   "metadata": {},
   "outputs": [],
   "source": [
    "df_non_cat = df.drop(labels = [\"quality\", \"type_red\", \"type_white\" ],axis = 1)\n",
    "sns.pairplot(df_non_cat)"
   ]
  },
  {
   "cell_type": "markdown",
   "id": "occupied-judges",
   "metadata": {},
   "source": [
    "### A we can see in the plots there are several outliers that can affect the result, so we will remove them from the data."
   ]
  },
  {
   "cell_type": "code",
   "execution_count": null,
   "id": "structured-connection",
   "metadata": {},
   "outputs": [],
   "source": [
    "sns.histplot(df[\"fixed acidity\"])"
   ]
  },
  {
   "cell_type": "code",
   "execution_count": null,
   "id": "provincial-solid",
   "metadata": {},
   "outputs": [],
   "source": [
    "sns.histplot(df[\"volatile acidity\"])"
   ]
  },
  {
   "cell_type": "code",
   "execution_count": null,
   "id": "manual-runner",
   "metadata": {},
   "outputs": [],
   "source": [
    "sns.histplot(df[\"total sulfur dioxide\"])"
   ]
  },
  {
   "cell_type": "code",
   "execution_count": null,
   "id": "earned-breakfast",
   "metadata": {},
   "outputs": [],
   "source": [
    "sns.histplot(df[\"density\"])"
   ]
  },
  {
   "cell_type": "code",
   "execution_count": null,
   "id": "supposed-chamber",
   "metadata": {},
   "outputs": [],
   "source": [
    "sns.histplot(df[\"pH\"])"
   ]
  },
  {
   "cell_type": "code",
   "execution_count": null,
   "id": "sealed-remove",
   "metadata": {},
   "outputs": [],
   "source": [
    "sns.histplot(df[\"sulphates\"])"
   ]
  },
  {
   "cell_type": "code",
   "execution_count": null,
   "id": "abroad-acrylic",
   "metadata": {},
   "outputs": [],
   "source": [
    "sns.histplot(df[\"alcohol\"])"
   ]
  },
  {
   "cell_type": "code",
   "execution_count": null,
   "id": "coral-accuracy",
   "metadata": {},
   "outputs": [],
   "source": [
    "sns.histplot(df[\"chlorides\"])"
   ]
  },
  {
   "cell_type": "code",
   "execution_count": null,
   "id": "confidential-kuwait",
   "metadata": {},
   "outputs": [],
   "source": [
    "sns.histplot(df[\"free sulfur dioxide\"])"
   ]
  },
  {
   "cell_type": "code",
   "execution_count": null,
   "id": "provincial-arbitration",
   "metadata": {},
   "outputs": [],
   "source": [
    "sns.histplot(df[\"citric acid\"])"
   ]
  },
  {
   "cell_type": "code",
   "execution_count": null,
   "id": "occupied-detective",
   "metadata": {},
   "outputs": [],
   "source": [
    "sns.histplot(df[\"residual sugar\"])"
   ]
  },
  {
   "cell_type": "code",
   "execution_count": null,
   "id": "enclosed-reasoning",
   "metadata": {},
   "outputs": [],
   "source": [
    "df.drop(df[ (df[\"fixed acidity\"] > 20)].index , inplace=True)\n",
    "df.drop(df[ (df[\"volatile acidity\"] > 1)].index , inplace=True)\n",
    "df.drop(df[ (df[\"total sulfur dioxide\"] > 250)].index , inplace=True)\n",
    "df.drop(df[ (df[\"density\"] > 1.01)].index , inplace=True)\n",
    "df.drop(df[ (df[\"pH\"] > 3.8)].index , inplace=True)\n",
    "df.drop(df[ (df[\"sulphates\"] > 1.25)].index , inplace=True)\n",
    "df.drop(df[ (df[\"chlorides\"] > 0.2)].index , inplace=True)\n",
    "df.drop(df[ (df[\"free sulfur dioxide\"] > 100)].index , inplace=True)\n",
    "df.drop(df[ (df[\"citric acid\"] > 0.75)].index , inplace=True)\n",
    "df.drop(df[ (df[\"residual sugar\"] > 20)].index , inplace=True)"
   ]
  },
  {
   "cell_type": "code",
   "execution_count": null,
   "id": "figured-conversation",
   "metadata": {},
   "outputs": [],
   "source": [
    "df_non_cat = df.drop(labels = [\"quality\", \"type_red\", \"type_white\" ],axis = 1)\n",
    "sns.pairplot(df_non_cat)"
   ]
  },
  {
   "cell_type": "markdown",
   "id": "killing-jackson",
   "metadata": {},
   "source": [
    "### Checking the correlations"
   ]
  },
  {
   "cell_type": "code",
   "execution_count": null,
   "id": "stable-broadway",
   "metadata": {},
   "outputs": [],
   "source": [
    "plt.figure(figsize=(12,6))\n",
    "sns.heatmap(df.corr(),annot=True)"
   ]
  },
  {
   "cell_type": "markdown",
   "id": "crucial-aviation",
   "metadata": {},
   "source": [
    "### Train-Test splitting"
   ]
  },
  {
   "cell_type": "code",
   "execution_count": null,
   "id": "individual-budget",
   "metadata": {},
   "outputs": [],
   "source": [
    "Y_orig = df[\"quality\"].values\n",
    "X_orig = df.drop(labels = [\"quality\" ],axis = 1)\n",
    "\n",
    "X, X_test, Y, Y_test = train_test_split(X_orig, Y_orig ,test_size = 0.1, random_state=13)\n",
    "X_train, X_vald, Y_train, Y_vald = train_test_split(X, Y ,test_size = 0.2, random_state=13)\n"
   ]
  },
  {
   "cell_type": "markdown",
   "id": "handy-twins",
   "metadata": {},
   "source": [
    "### Model creation"
   ]
  },
  {
   "cell_type": "code",
   "execution_count": null,
   "id": "alert-prior",
   "metadata": {},
   "outputs": [],
   "source": [
    "def getModel(type):\n",
    "    switcher = {\n",
    "        \"knn\": KNeighborsClassifier(),\n",
    "        \"svc\": svm.SVC(),\n",
    "        \"rf\": RandomForestClassifier(),\n",
    "        \"lr\": LogisticRegression(),        \n",
    "    }\n",
    "  \n",
    "    return switcher.get(type, None)"
   ]
  },
  {
   "cell_type": "code",
   "execution_count": null,
   "id": "attended-barbados",
   "metadata": {},
   "outputs": [],
   "source": [
    "def get_trained_model(clf, x_train, y_train, scaler=None, param_grid=None, withHyperparameterTuning=False):\n",
    "    if scaler is not None:\n",
    "        x_train = pd.DataFrame(scaler.fit_transform(x_train), index=x_train.index, columns=x_train.columns)\n",
    "        \n",
    "    if withHyperparameterTuning:        \n",
    "        clf = GridSearchCV(clf, param_grid, cv=5)          \n",
    "        clf.fit(x_train, y_train)\n",
    "        \n",
    "        print(clf.best_params_)\n",
    "        print(clf.best_estimator_)\n",
    "        \n",
    "        return clf\n",
    "    \n",
    "    clf.fit(x_train, y_train)\n",
    "    return clf"
   ]
  },
  {
   "cell_type": "code",
   "execution_count": null,
   "id": "following-gamma",
   "metadata": {},
   "outputs": [],
   "source": [
    "def predict(clf, x_test, y_test, scaler=None):\n",
    "    if scaler is not None:\n",
    "        x_test = pd.DataFrame(scaler.transform(x_test), index=x_test.index, columns=x_test.columns)\n",
    "    \n",
    "    y_pred = clf.predict(x_test)\n",
    "    \n",
    "    print(\"Accuracy:\", accuracy_score(y_test, y_pred))\n",
    "    print(\"Precision:\", precision_score(y_test, y_pred, average='macro', zero_division=0))    \n",
    "    print(\"Recall:\", recall_score(y_test, y_pred, average='macro', zero_division=0))\n",
    "    print(classification_report(y_test, y_pred, zero_division=0))"
   ]
  },
  {
   "cell_type": "markdown",
   "id": "behavioral-commissioner",
   "metadata": {},
   "source": [
    "### Logistic Regression\n"
   ]
  },
  {
   "cell_type": "code",
   "execution_count": null,
   "id": "vanilla-session",
   "metadata": {},
   "outputs": [],
   "source": []
  },
  {
   "cell_type": "code",
   "execution_count": null,
   "id": "polyphonic-clock",
   "metadata": {},
   "outputs": [],
   "source": []
  },
  {
   "cell_type": "code",
   "execution_count": null,
   "id": "younger-craps",
   "metadata": {},
   "outputs": [],
   "source": []
  },
  {
   "cell_type": "code",
   "execution_count": null,
   "id": "promising-valley",
   "metadata": {},
   "outputs": [],
   "source": []
  },
  {
   "cell_type": "code",
   "execution_count": null,
   "id": "formed-network",
   "metadata": {},
   "outputs": [],
   "source": []
  },
  {
   "cell_type": "code",
   "execution_count": null,
   "id": "opposed-management",
   "metadata": {},
   "outputs": [],
   "source": []
  },
  {
   "cell_type": "code",
   "execution_count": null,
   "id": "blank-warren",
   "metadata": {},
   "outputs": [],
   "source": []
  },
  {
   "cell_type": "code",
   "execution_count": null,
   "id": "revised-python",
   "metadata": {},
   "outputs": [],
   "source": []
  },
  {
   "cell_type": "code",
   "execution_count": null,
   "id": "awful-wagon",
   "metadata": {},
   "outputs": [],
   "source": []
  },
  {
   "cell_type": "code",
   "execution_count": null,
   "id": "chemical-concept",
   "metadata": {},
   "outputs": [],
   "source": []
  },
  {
   "cell_type": "markdown",
   "id": "verbal-treat",
   "metadata": {},
   "source": [
    "### Decision Tree\n"
   ]
  },
  {
   "cell_type": "code",
   "execution_count": null,
   "id": "weird-alberta",
   "metadata": {},
   "outputs": [],
   "source": []
  },
  {
   "cell_type": "code",
   "execution_count": null,
   "id": "gorgeous-south",
   "metadata": {},
   "outputs": [],
   "source": []
  },
  {
   "cell_type": "code",
   "execution_count": null,
   "id": "prerequisite-coordinator",
   "metadata": {},
   "outputs": [],
   "source": []
  },
  {
   "cell_type": "code",
   "execution_count": null,
   "id": "hispanic-string",
   "metadata": {},
   "outputs": [],
   "source": []
  },
  {
   "cell_type": "code",
   "execution_count": null,
   "id": "automatic-reducing",
   "metadata": {},
   "outputs": [],
   "source": []
  },
  {
   "cell_type": "code",
   "execution_count": null,
   "id": "forty-patch",
   "metadata": {},
   "outputs": [],
   "source": []
  },
  {
   "cell_type": "code",
   "execution_count": null,
   "id": "applicable-happiness",
   "metadata": {},
   "outputs": [],
   "source": []
  },
  {
   "cell_type": "code",
   "execution_count": null,
   "id": "geographic-brisbane",
   "metadata": {},
   "outputs": [],
   "source": []
  },
  {
   "cell_type": "code",
   "execution_count": null,
   "id": "purple-correction",
   "metadata": {},
   "outputs": [],
   "source": []
  },
  {
   "cell_type": "code",
   "execution_count": null,
   "id": "abroad-invalid",
   "metadata": {},
   "outputs": [],
   "source": []
  },
  {
   "cell_type": "markdown",
   "id": "likely-spanish",
   "metadata": {},
   "source": [
    "### Random Forest"
   ]
  },
  {
   "cell_type": "code",
   "execution_count": null,
   "id": "neural-dress",
   "metadata": {},
   "outputs": [],
   "source": []
  },
  {
   "cell_type": "code",
   "execution_count": null,
   "id": "genuine-announcement",
   "metadata": {},
   "outputs": [],
   "source": [
    "rf = 'rf'"
   ]
  },
  {
   "cell_type": "code",
   "execution_count": null,
   "id": "unnecessary-xerox",
   "metadata": {},
   "outputs": [],
   "source": [
    "print('Random forest metrics without scaling...')\n",
    "clf = get_trained_model(getModel(rf), X_train, Y_train)\n",
    "predict(clf, X_vald, Y_vald)\n",
    "print('Final test...')\n",
    "predict(clf, X_test, Y_test)\n",
    "\n",
    "print('CV accuracy', cross_val_score(clf, X_train, Y_train, cv=5).mean())"
   ]
  },
  {
   "cell_type": "code",
   "execution_count": null,
   "id": "going-egyptian",
   "metadata": {},
   "outputs": [],
   "source": [
    "print('Random forest metrics using MinMaxScaler...')\n",
    "scaler = MinMaxScaler()\n",
    "clf = get_trained_model(getModel(rf), X_train, Y_train, scaler=scaler)\n",
    "predict(clf, X_vald, Y_vald, scaler=scaler)\n",
    "print('Final test...')\n",
    "predict(clf, X_test, Y_test, scaler=scaler)\n",
    "\n",
    "print('CV accuracy', cross_val_score(clf, X_train, Y_train, cv=5).mean())"
   ]
  },
  {
   "cell_type": "code",
   "execution_count": null,
   "id": "narrative-observer",
   "metadata": {},
   "outputs": [],
   "source": [
    "print('Random forest metrics using StandardScaler...')\n",
    "scaler = StandardScaler()\n",
    "clf = get_trained_model(getModel(rf), X_train, Y_train, scaler=scaler)\n",
    "predict(clf, X_vald, Y_vald, scaler=scaler)\n",
    "print('Final test...')\n",
    "predict(clf, X_test, Y_test, scaler=scaler)\n",
    "\n",
    "print('CV accuracy', cross_val_score(clf, X_train, Y_train, cv=5).mean())"
   ]
  },
  {
   "cell_type": "code",
   "execution_count": null,
   "id": "through-charter",
   "metadata": {},
   "outputs": [],
   "source": []
  },
  {
   "cell_type": "code",
   "execution_count": null,
   "id": "induced-kentucky",
   "metadata": {},
   "outputs": [],
   "source": []
  },
  {
   "cell_type": "code",
   "execution_count": null,
   "id": "imported-stand",
   "metadata": {},
   "outputs": [],
   "source": []
  },
  {
   "cell_type": "code",
   "execution_count": null,
   "id": "recent-scanning",
   "metadata": {},
   "outputs": [],
   "source": []
  },
  {
   "cell_type": "code",
   "execution_count": null,
   "id": "common-impact",
   "metadata": {},
   "outputs": [],
   "source": []
  },
  {
   "cell_type": "markdown",
   "id": "owned-smart",
   "metadata": {},
   "source": [
    "### KNN"
   ]
  },
  {
   "cell_type": "code",
   "execution_count": null,
   "id": "careful-services",
   "metadata": {},
   "outputs": [],
   "source": [
    "knn = \"knn\""
   ]
  },
  {
   "cell_type": "code",
   "execution_count": null,
   "id": "sensitive-innocent",
   "metadata": {},
   "outputs": [],
   "source": [
    "# Hyperparameters to tune\n",
    "knn_params  = {'leaf_size': list(range(1,5)), \n",
    "               'n_neighbors': list(range(1,10)),\n",
    "               'p': [1,2]}                          \n"
   ]
  },
  {
   "cell_type": "code",
   "execution_count": null,
   "id": "military-thursday",
   "metadata": {},
   "outputs": [],
   "source": [
    "print('KNN metrics without scaling...')\n",
    "clf = get_trained_model(getModel(knn), X_train, Y_train, param_grid=knn_params)\n",
    "predict(clf, X_vald, Y_vald)\n",
    "\n",
    "print('Final test...')\n",
    "predict(clf, X_test, Y_test)"
   ]
  },
  {
   "cell_type": "code",
   "execution_count": null,
   "id": "hourly-friendly",
   "metadata": {},
   "outputs": [],
   "source": [
    "print('KNN metrics using MinMaxScaler...')\n",
    "scaler = MinMaxScaler()\n",
    "clf = get_trained_model(getModel(knn), X_train, Y_train, scaler=scaler)\n",
    "predict(clf, X_vald, Y_vald, scaler=scaler)\n",
    "\n",
    "print('Final test...')\n",
    "predict(clf, X_test, Y_test, scaler=scaler)"
   ]
  },
  {
   "cell_type": "code",
   "execution_count": null,
   "id": "romance-impression",
   "metadata": {},
   "outputs": [],
   "source": [
    "# print(classification_report(Y_test, knn_pred))"
   ]
  },
  {
   "cell_type": "code",
   "execution_count": null,
   "id": "modern-dress",
   "metadata": {},
   "outputs": [],
   "source": []
  },
  {
   "cell_type": "code",
   "execution_count": null,
   "id": "renewable-syntax",
   "metadata": {},
   "outputs": [],
   "source": []
  },
  {
   "cell_type": "code",
   "execution_count": null,
   "id": "unknown-dependence",
   "metadata": {},
   "outputs": [],
   "source": []
  },
  {
   "cell_type": "markdown",
   "id": "demanding-breach",
   "metadata": {},
   "source": [
    "### SVM"
   ]
  },
  {
   "cell_type": "code",
   "execution_count": null,
   "id": "respiratory-multimedia",
   "metadata": {},
   "outputs": [],
   "source": [
    "svc = \"svc\""
   ]
  },
  {
   "cell_type": "code",
   "execution_count": null,
   "id": "green-recovery",
   "metadata": {},
   "outputs": [],
   "source": [
    "print('SVM metrics without scaling...')\n",
    "clf = get_trained_model(getModel(svc), X_train, Y_train)\n",
    "predict(clf, X_vald, Y_vald)\n",
    "\n",
    "print('Final test...')\n",
    "predict(clf, X_test, Y_test)"
   ]
  },
  {
   "cell_type": "code",
   "execution_count": null,
   "id": "amazing-nebraska",
   "metadata": {},
   "outputs": [],
   "source": [
    "print('SVM metrics using MinMaxScaler...')\n",
    "scaler = MinMaxScaler()\n",
    "clf = get_trained_model(getModel(svc), X_train, Y_train, scaler=scaler)\n",
    "predict(clf, X_vald, Y_vald, scaler=scaler)\n",
    "\n",
    "print('Final test...')\n",
    "predict(clf, X_test, Y_test, scaler=scaler)"
   ]
  },
  {
   "cell_type": "code",
   "execution_count": null,
   "id": "greater-binding",
   "metadata": {},
   "outputs": [],
   "source": [
    "print('SVM metrics using StandardScaler...')\n",
    "scaler = StandardScaler()\n",
    "clf = get_trained_model(getModel(svc), X_train, Y_train, scaler=scaler)\n",
    "predict(clf, X_vald, Y_vald, scaler=scaler)\n",
    "\n",
    "print('Final test...')\n",
    "predict(clf, X_test, Y_test, scaler=scaler)"
   ]
  },
  {
   "cell_type": "markdown",
   "id": "textile-vancouver",
   "metadata": {},
   "source": [
    "## HyperParameter Tuning"
   ]
  },
  {
   "cell_type": "code",
   "execution_count": null,
   "id": "measured-header",
   "metadata": {},
   "outputs": [],
   "source": [
    "param_grid = {'C': [0.001, 0.01, 0.1, 1, 10], \n",
    "              'gamma': [1, 0.1, 0.01, 0.001, 0.0001],\n",
    "              'kernel': ['rbf', 'linear']} "
   ]
  },
  {
   "cell_type": "code",
   "execution_count": null,
   "id": "sporting-certification",
   "metadata": {},
   "outputs": [],
   "source": [
    "print('SVM metrics without scaling...')\n",
    "clf = get_trained_model(getModel(svc), X_train, Y_train, withHyperparameterTuning=True, param_grid=param_grid)\n",
    "predict(clf, X_vald, Y_vald)\n",
    "\n",
    "print('Final test...')\n",
    "predict(clf, X_test, Y_test)"
   ]
  },
  {
   "cell_type": "code",
   "execution_count": null,
   "id": "third-partition",
   "metadata": {},
   "outputs": [],
   "source": [
    "print('SVM metrics using MinMaxScaler...')\n",
    "scaler = MinMaxScaler()\n",
    "clf = get_trained_model(getModel(svm), X_train, Y_train, scaler=scaler, withHyperparameterTuning=True, param_grid=param_grid)\n",
    "predict(clf, X_vald, Y_vald, scaler=scaler)\n",
    "\n",
    "print('Final test...')\n",
    "predict(clf, X_test, Y_test, scaler=scaler)"
   ]
  },
  {
   "cell_type": "code",
   "execution_count": null,
   "id": "specialized-waters",
   "metadata": {},
   "outputs": [],
   "source": [
    "print('SVM metrics using StandardScaler...')\n",
    "scaler = StandardScaler()\n",
    "clf = get_trained_model(getModel(svm), X_train, Y_train, scaler=scaler, withHyperparameterTuning=True, param_grid=param_grid)\n",
    "predict(clf, X_vald, Y_vald, scaler=scaler)\n",
    "\n",
    "print('Final test...')\n",
    "predict(clf, X_test, Y_test, scaler=scaler)"
   ]
  },
  {
   "cell_type": "code",
   "execution_count": null,
   "id": "cognitive-restaurant",
   "metadata": {},
   "outputs": [],
   "source": []
  },
  {
   "cell_type": "markdown",
   "id": "objective-encounter",
   "metadata": {},
   "source": [
    "### Final Results"
   ]
  },
  {
   "cell_type": "code",
   "execution_count": null,
   "id": "collected-softball",
   "metadata": {},
   "outputs": [],
   "source": [
    "results = pd.DataFrame({'models': [\"Logistic Regression\", \"Decision Tree\", \"Random Forest\",\"KNN\", \"SVM\"],\n",
    "                           'accuracies': [accuracy_score(y_test,pred_svc),accuracy_score(y_test,pred_rfc),accuracy_score(y_test,pred_knn)]})\n",
    "results"
   ]
  }
 ],
 "metadata": {
  "kernelspec": {
   "display_name": "Python 3",
   "language": "python",
   "name": "python3"
  },
  "language_info": {
   "codemirror_mode": {
    "name": "ipython",
    "version": 3
   },
   "file_extension": ".py",
   "mimetype": "text/x-python",
   "name": "python",
   "nbconvert_exporter": "python",
   "pygments_lexer": "ipython3",
   "version": "3.9.2"
  }
 },
 "nbformat": 4,
 "nbformat_minor": 5
}
