{
 "cells": [
  {
   "cell_type": "markdown",
   "id": "fuzzy-roberts",
   "metadata": {},
   "source": [
    "###                                                             Wine Quality data preprocessing"
   ]
  },
  {
   "cell_type": "code",
   "execution_count": null,
   "id": "hired-grammar",
   "metadata": {},
   "outputs": [],
   "source": [
    "import pandas as pd\n",
    "import numpy as np\n",
    "import matplotlib.pyplot as plt\n",
    "import seaborn as sns\n",
    "import plotly.express as px\n",
    "\n",
    "from sklearn.preprocessing import OneHotEncoder, MinMaxScaler, StandardScaler\n",
    "from sklearn.model_selection import train_test_split\n",
    "from sklearn.metrics import accuracy_score, recall_score, precision_score, classification_report, plot_confusion_matrix\n",
    "from sklearn.model_selection import GridSearchCV\n",
    "from sklearn.model_selection import cross_val_score, cross_val_predict\n",
    "\n",
    "from sklearn.neighbors import KNeighborsClassifier\n",
    "from sklearn.ensemble import RandomForestClassifier\n",
    "from sklearn import svm\n",
    "from sklearn.linear_model import LogisticRegression\n",
    "\n",
    "import warnings\n",
    "warnings.filterwarnings('ignore')"
   ]
  },
  {
   "cell_type": "code",
   "execution_count": null,
   "id": "anonymous-calvin",
   "metadata": {},
   "outputs": [],
   "source": [
    "df = pd.read_csv('data/winequalityN.csv')\n",
    "df.head(5)"
   ]
  },
  {
   "cell_type": "code",
   "execution_count": null,
   "id": "adjusted-jason",
   "metadata": {},
   "outputs": [],
   "source": [
    "df.tail(5)"
   ]
  },
  {
   "cell_type": "code",
   "execution_count": null,
   "id": "noble-channel",
   "metadata": {},
   "outputs": [],
   "source": [
    "df.info()"
   ]
  },
  {
   "cell_type": "code",
   "execution_count": null,
   "id": "existing-haiti",
   "metadata": {},
   "outputs": [],
   "source": [
    "df.describe()"
   ]
  },
  {
   "cell_type": "markdown",
   "id": "operational-design",
   "metadata": {},
   "source": [
    "### Checking for missing values"
   ]
  },
  {
   "cell_type": "code",
   "execution_count": null,
   "id": "dense-front",
   "metadata": {},
   "outputs": [],
   "source": [
    "df.isna().sum()"
   ]
  },
  {
   "cell_type": "markdown",
   "id": "corporate-resort",
   "metadata": {},
   "source": [
    "### Replace missing values with mean of the corresponding column values"
   ]
  },
  {
   "cell_type": "code",
   "execution_count": null,
   "id": "dietary-banks",
   "metadata": {},
   "outputs": [],
   "source": [
    "df.fillna(df.mean(), inplace=True)\n",
    "df.isna().sum()"
   ]
  },
  {
   "cell_type": "markdown",
   "id": "behavioral-administrator",
   "metadata": {},
   "source": [
    "### One-hot-encoding the type column"
   ]
  },
  {
   "cell_type": "code",
   "execution_count": null,
   "id": "sharing-dress",
   "metadata": {},
   "outputs": [],
   "source": [
    "df = pd.get_dummies(df)\n",
    "df"
   ]
  },
  {
   "cell_type": "code",
   "execution_count": null,
   "id": "subtle-monday",
   "metadata": {},
   "outputs": [],
   "source": [
    "sns.histplot(df[\"quality\"])"
   ]
  },
  {
   "cell_type": "code",
   "execution_count": null,
   "id": "material-albuquerque",
   "metadata": {},
   "outputs": [],
   "source": [
    "X = df[df.columns.difference(df['quality'])]\n",
    "Y = df['quality']\n",
    "Y.value_counts()"
   ]
  },
  {
   "cell_type": "code",
   "execution_count": null,
   "id": "perceived-diagram",
   "metadata": {},
   "outputs": [],
   "source": [
    "df_non_cat = df.drop(labels = [\"quality\", \"type_red\", \"type_white\" ],axis = 1)\n",
    "sns.pairplot(df_non_cat)"
   ]
  },
  {
   "cell_type": "markdown",
   "id": "eleven-morgan",
   "metadata": {},
   "source": [
    "### A we can see in the plots there are several outliers that can affect the result, so we will remove them from the data."
   ]
  },
  {
   "cell_type": "code",
   "execution_count": null,
   "id": "induced-norwegian",
   "metadata": {},
   "outputs": [],
   "source": [
    "sns.histplot(df[\"fixed acidity\"])"
   ]
  },
  {
   "cell_type": "code",
   "execution_count": null,
   "id": "posted-caribbean",
   "metadata": {},
   "outputs": [],
   "source": [
    "sns.histplot(df[\"volatile acidity\"])"
   ]
  },
  {
   "cell_type": "code",
   "execution_count": null,
   "id": "assisted-civilian",
   "metadata": {},
   "outputs": [],
   "source": [
    "sns.histplot(df[\"total sulfur dioxide\"])"
   ]
  },
  {
   "cell_type": "code",
   "execution_count": null,
   "id": "objective-atmosphere",
   "metadata": {},
   "outputs": [],
   "source": [
    "sns.histplot(df[\"density\"])"
   ]
  },
  {
   "cell_type": "code",
   "execution_count": null,
   "id": "attractive-heating",
   "metadata": {},
   "outputs": [],
   "source": [
    "sns.histplot(df[\"pH\"])"
   ]
  },
  {
   "cell_type": "code",
   "execution_count": null,
   "id": "warming-denver",
   "metadata": {},
   "outputs": [],
   "source": [
    "sns.histplot(df[\"sulphates\"])"
   ]
  },
  {
   "cell_type": "code",
   "execution_count": null,
   "id": "loaded-exemption",
   "metadata": {},
   "outputs": [],
   "source": [
    "sns.histplot(df[\"alcohol\"])"
   ]
  },
  {
   "cell_type": "code",
   "execution_count": null,
   "id": "hawaiian-switch",
   "metadata": {},
   "outputs": [],
   "source": [
    "sns.histplot(df[\"chlorides\"])"
   ]
  },
  {
   "cell_type": "code",
   "execution_count": null,
   "id": "equipped-rocket",
   "metadata": {},
   "outputs": [],
   "source": [
    "sns.histplot(df[\"free sulfur dioxide\"])"
   ]
  },
  {
   "cell_type": "code",
   "execution_count": null,
   "id": "agreed-tiffany",
   "metadata": {},
   "outputs": [],
   "source": [
    "sns.histplot(df[\"citric acid\"])"
   ]
  },
  {
   "cell_type": "code",
   "execution_count": null,
   "id": "executed-individual",
   "metadata": {},
   "outputs": [],
   "source": [
    "sns.histplot(df[\"residual sugar\"])"
   ]
  },
  {
   "cell_type": "code",
   "execution_count": null,
   "id": "contemporary-palmer",
   "metadata": {},
   "outputs": [],
   "source": [
    "df.drop(df[ (df[\"fixed acidity\"] > 20)].index , inplace=True)\n",
    "df.drop(df[ (df[\"volatile acidity\"] > 1)].index , inplace=True)\n",
    "df.drop(df[ (df[\"total sulfur dioxide\"] > 250)].index , inplace=True)\n",
    "df.drop(df[ (df[\"density\"] > 1.01)].index , inplace=True)\n",
    "df.drop(df[ (df[\"pH\"] > 3.8)].index , inplace=True)\n",
    "df.drop(df[ (df[\"sulphates\"] > 1.25)].index , inplace=True)\n",
    "df.drop(df[ (df[\"chlorides\"] > 0.2)].index , inplace=True)\n",
    "df.drop(df[ (df[\"free sulfur dioxide\"] > 100)].index , inplace=True)\n",
    "df.drop(df[ (df[\"citric acid\"] > 0.75)].index , inplace=True)\n",
    "df.drop(df[ (df[\"residual sugar\"] > 20)].index , inplace=True)"
   ]
  },
  {
   "cell_type": "code",
   "execution_count": null,
   "id": "foreign-trinidad",
   "metadata": {},
   "outputs": [],
   "source": [
    "df_non_cat = df.drop(labels = [\"quality\", \"type_red\", \"type_white\" ],axis = 1)\n",
    "sns.pairplot(df_non_cat)"
   ]
  },
  {
   "cell_type": "markdown",
   "id": "terminal-mixture",
   "metadata": {},
   "source": [
    "### Checking the correlations"
   ]
  },
  {
   "cell_type": "code",
   "execution_count": null,
   "id": "mysterious-prompt",
   "metadata": {},
   "outputs": [],
   "source": [
    "plt.figure(figsize=(12,6))\n",
    "sns.heatmap(df.corr(),annot=True)"
   ]
  },
  {
   "cell_type": "markdown",
   "id": "sufficient-sequence",
   "metadata": {},
   "source": [
    "### Train-Test splitting"
   ]
  },
  {
   "cell_type": "code",
   "execution_count": null,
   "id": "continuing-sixth",
   "metadata": {},
   "outputs": [],
   "source": [
    "Y_orig = df[\"quality\"].values\n",
    "X_orig = df.drop(labels = [\"quality\" ],axis = 1)\n",
    "\n",
    "X, X_test, Y, Y_test = train_test_split(X_orig, Y_orig ,test_size = 0.1, random_state=13)\n",
    "X_train, X_vald, Y_train, Y_vald = train_test_split(X, Y ,test_size = 0.2, random_state=13)\n"
   ]
  },
  {
   "cell_type": "markdown",
   "id": "prospective-wiring",
   "metadata": {},
   "source": [
    "### Model creation"
   ]
  },
  {
   "cell_type": "code",
   "execution_count": null,
   "id": "stone-nerve",
   "metadata": {},
   "outputs": [],
   "source": [
    "def getModel(type):\n",
    "    switcher = {\n",
    "        \"knn\": KNeighborsClassifier(),\n",
    "        \"svc\": svm.SVC(),\n",
    "        \"rf\": RandomForestClassifier(),\n",
    "        \"lr\": LogisticRegression(),        \n",
    "    }\n",
    "  \n",
    "    return switcher.get(type, None)"
   ]
  },
  {
   "cell_type": "code",
   "execution_count": null,
   "id": "inappropriate-roommate",
   "metadata": {},
   "outputs": [],
   "source": [
    "def get_trained_model(clf, x_train, y_train, scaler=None, param_grid=None, withHyperparameterTuning=False):\n",
    "    if scaler is not None:\n",
    "        x_train = pd.DataFrame(scaler.fit_transform(x_train), index=x_train.index, columns=x_train.columns)\n",
    "        \n",
    "    if withHyperparameterTuning:        \n",
    "        clf = GridSearchCV(clf, param_grid, cv=5)          \n",
    "        clf.fit(x_train, y_train)\n",
    "        \n",
    "        print(clf.best_params_)\n",
    "        print(clf.best_estimator_)\n",
    "        \n",
    "        return clf\n",
    "    \n",
    "    clf.fit(x_train, y_train)\n",
    "    return clf"
   ]
  },
  {
   "cell_type": "code",
   "execution_count": null,
   "id": "satisfied-example",
   "metadata": {},
   "outputs": [],
   "source": [
    "def predict(clf, x_test, y_test, scaler=None):\n",
    "    if scaler is not None:\n",
    "        x_test = pd.DataFrame(scaler.transform(x_test), index=x_test.index, columns=x_test.columns)\n",
    "    \n",
    "    y_pred = clf.predict(x_test)\n",
    "    \n",
    "    global accuracy\n",
    "    accuracy = accuracy_score(y_test, y_pred)\n",
    "    global precision\n",
    "    precision = precision_score(y_test, y_pred, average='macro', zero_division=0)\n",
    "    global recall \n",
    "    recall = recall_score(y_test, y_pred, average='macro', zero_division=0)\n",
    "    \n",
    "    print(\"Accuracy:\", accuracy_score(y_test, y_pred))\n",
    "    print(\"Precision:\", precision_score(y_test, y_pred, average='macro', zero_division=0))    \n",
    "    print(\"Recall:\", recall_score(y_test, y_pred, average='macro', zero_division=0))\n",
    "    print(classification_report(y_test, y_pred, zero_division=0))"
   ]
  },
  {
   "cell_type": "code",
   "execution_count": null,
   "id": "decimal-vault",
   "metadata": {},
   "outputs": [],
   "source": []
  },
  {
   "cell_type": "markdown",
   "id": "knowing-command",
   "metadata": {},
   "source": [
    "### Logistic Regression\n"
   ]
  },
  {
   "cell_type": "code",
   "execution_count": null,
   "id": "atomic-letters",
   "metadata": {},
   "outputs": [],
   "source": []
  },
  {
   "cell_type": "code",
   "execution_count": null,
   "id": "nearby-psychology",
   "metadata": {},
   "outputs": [],
   "source": []
  },
  {
   "cell_type": "code",
   "execution_count": null,
   "id": "toxic-equivalent",
   "metadata": {},
   "outputs": [],
   "source": []
  },
  {
   "cell_type": "code",
   "execution_count": null,
   "id": "sitting-crown",
   "metadata": {},
   "outputs": [],
   "source": []
  },
  {
   "cell_type": "code",
   "execution_count": null,
   "id": "abandoned-landscape",
   "metadata": {},
   "outputs": [],
   "source": []
  },
  {
   "cell_type": "code",
   "execution_count": null,
   "id": "insured-playback",
   "metadata": {},
   "outputs": [],
   "source": []
  },
  {
   "cell_type": "code",
   "execution_count": null,
   "id": "modified-scheduling",
   "metadata": {},
   "outputs": [],
   "source": []
  },
  {
   "cell_type": "code",
   "execution_count": null,
   "id": "played-occasion",
   "metadata": {},
   "outputs": [],
   "source": []
  },
  {
   "cell_type": "code",
   "execution_count": null,
   "id": "accepted-hunger",
   "metadata": {},
   "outputs": [],
   "source": []
  },
  {
   "cell_type": "code",
   "execution_count": null,
   "id": "increasing-authentication",
   "metadata": {},
   "outputs": [],
   "source": []
  },
  {
   "cell_type": "markdown",
   "id": "metric-carpet",
   "metadata": {},
   "source": [
    "### Decision Tree\n"
   ]
  },
  {
   "cell_type": "code",
   "execution_count": null,
   "id": "pending-thumb",
   "metadata": {},
   "outputs": [],
   "source": []
  },
  {
   "cell_type": "code",
   "execution_count": null,
   "id": "flexible-pressure",
   "metadata": {},
   "outputs": [],
   "source": []
  },
  {
   "cell_type": "code",
   "execution_count": null,
   "id": "metric-console",
   "metadata": {},
   "outputs": [],
   "source": []
  },
  {
   "cell_type": "code",
   "execution_count": null,
   "id": "accepting-assist",
   "metadata": {},
   "outputs": [],
   "source": []
  },
  {
   "cell_type": "code",
   "execution_count": null,
   "id": "quantitative-venue",
   "metadata": {},
   "outputs": [],
   "source": []
  },
  {
   "cell_type": "code",
   "execution_count": null,
   "id": "western-species",
   "metadata": {},
   "outputs": [],
   "source": []
  },
  {
   "cell_type": "code",
   "execution_count": null,
   "id": "hungarian-blood",
   "metadata": {},
   "outputs": [],
   "source": []
  },
  {
   "cell_type": "code",
   "execution_count": null,
   "id": "atmospheric-ceramic",
   "metadata": {},
   "outputs": [],
   "source": []
  },
  {
   "cell_type": "code",
   "execution_count": null,
   "id": "patent-pierre",
   "metadata": {},
   "outputs": [],
   "source": []
  },
  {
   "cell_type": "code",
   "execution_count": null,
   "id": "indonesian-comparative",
   "metadata": {},
   "outputs": [],
   "source": []
  },
  {
   "cell_type": "markdown",
   "id": "dominant-gazette",
   "metadata": {},
   "source": [
    "### Random Forest"
   ]
  },
  {
   "cell_type": "code",
   "execution_count": null,
   "id": "cellular-screen",
   "metadata": {},
   "outputs": [],
   "source": []
  },
  {
   "cell_type": "code",
   "execution_count": null,
   "id": "super-humanity",
   "metadata": {},
   "outputs": [],
   "source": [
    "rf = 'rf'"
   ]
  },
  {
   "cell_type": "code",
   "execution_count": null,
   "id": "regular-reward",
   "metadata": {},
   "outputs": [],
   "source": [
    "print('Random forest metrics without scaling...')\n",
    "clf = get_trained_model(getModel(rf), X_train, Y_train)\n",
    "predict(clf, X_vald, Y_vald)\n",
    "print('Final test...')\n",
    "predict(clf, X_test, Y_test)\n",
    "\n",
    "print('CV accuracy', cross_val_score(clf, X_train, Y_train, cv=5).mean())"
   ]
  },
  {
   "cell_type": "code",
   "execution_count": null,
   "id": "subtle-dover",
   "metadata": {},
   "outputs": [],
   "source": [
    "print('Random forest metrics using MinMaxScaler...')\n",
    "scaler = MinMaxScaler()\n",
    "clf = get_trained_model(getModel(rf), X_train, Y_train, scaler=scaler)\n",
    "predict(clf, X_vald, Y_vald, scaler=scaler)\n",
    "print('Final test...')\n",
    "predict(clf, X_test, Y_test, scaler=scaler)\n",
    "\n",
    "print('CV accuracy', cross_val_score(clf, X_train, Y_train, cv=5).mean())"
   ]
  },
  {
   "cell_type": "code",
   "execution_count": null,
   "id": "strong-evidence",
   "metadata": {},
   "outputs": [],
   "source": [
    "print('Random forest metrics using StandardScaler...')\n",
    "scaler = StandardScaler()\n",
    "clf = get_trained_model(getModel(rf), X_train, Y_train, scaler=scaler)\n",
    "predict(clf, X_vald, Y_vald, scaler=scaler)\n",
    "print('Final test...')\n",
    "predict(clf, X_test, Y_test, scaler=scaler)\n",
    "\n",
    "print('CV accuracy', cross_val_score(clf, X_train, Y_train, cv=5).mean())"
   ]
  },
  {
   "cell_type": "code",
   "execution_count": null,
   "id": "smooth-lounge",
   "metadata": {},
   "outputs": [],
   "source": []
  },
  {
   "cell_type": "code",
   "execution_count": null,
   "id": "median-accuracy",
   "metadata": {},
   "outputs": [],
   "source": []
  },
  {
   "cell_type": "code",
   "execution_count": null,
   "id": "cultural-cathedral",
   "metadata": {},
   "outputs": [],
   "source": []
  },
  {
   "cell_type": "code",
   "execution_count": null,
   "id": "breeding-score",
   "metadata": {},
   "outputs": [],
   "source": []
  },
  {
   "cell_type": "code",
   "execution_count": null,
   "id": "framed-intellectual",
   "metadata": {},
   "outputs": [],
   "source": []
  },
  {
   "cell_type": "markdown",
   "id": "solid-patio",
   "metadata": {},
   "source": [
    "### KNN"
   ]
  },
  {
   "cell_type": "code",
   "execution_count": null,
   "id": "educated-empire",
   "metadata": {},
   "outputs": [],
   "source": [
    "knn = \"knn\"\n",
    "knn_scores = {\n",
    "    'Accuracy': [],\n",
    "    'Precision': [],\n",
    "    'Recall': []\n",
    "}"
   ]
  },
  {
   "cell_type": "code",
   "execution_count": null,
   "id": "powerful-experience",
   "metadata": {},
   "outputs": [],
   "source": [
    "# Hyperparameters to tune\n",
    "knn_params  = {'leaf_size': list(range(1,5)), \n",
    "               'n_neighbors': list(range(1,10)),\n",
    "               'p': [1,2]}                          \n"
   ]
  },
  {
   "cell_type": "code",
   "execution_count": null,
   "id": "capable-attitude",
   "metadata": {},
   "outputs": [],
   "source": [
    "print('KNN metrics without scaling...')\n",
    "clf = get_trained_model(getModel(knn), X_train, Y_train, param_grid=knn_params)\n",
    "predict(clf, X_vald, Y_vald)\n",
    "\n",
    "print('Final test...')\n",
    "predict(clf, X_test, Y_test)\n",
    "\n",
    "knn_scores['Accuracy'].append(accuracy)\n",
    "knn_scores['Precision'].append(precision)\n",
    "knn_scores['Recall'].append(recall)"
   ]
  },
  {
   "cell_type": "code",
   "execution_count": null,
   "id": "northern-think",
   "metadata": {},
   "outputs": [],
   "source": [
    "print('KNN metrics using MinMaxScaler...')\n",
    "scaler = MinMaxScaler()\n",
    "clf = get_trained_model(getModel(knn), X_train, Y_train, scaler=scaler)\n",
    "predict(clf, X_vald, Y_vald, scaler=scaler)\n",
    "\n",
    "print('Final test...')\n",
    "predict(clf, X_test, Y_test, scaler=scaler)\n",
    "\n",
    "knn_scores['Accuracy'].append(accuracy)\n",
    "knn_scores['Precision'].append(precision)\n",
    "knn_scores['Recall'].append(recall)"
   ]
  },
  {
   "cell_type": "code",
   "execution_count": null,
   "id": "adequate-inside",
   "metadata": {},
   "outputs": [],
   "source": [
    "print('KNN metrics using StandardScaler...')\n",
    "scaler = StandardScaler()\n",
    "clf = get_trained_model(getModel(knn), X_train, Y_train, scaler=scaler)\n",
    "predict(clf, X_vald, Y_vald, scaler=scaler)\n",
    "\n",
    "print('Final test...')\n",
    "predict(clf, X_test, Y_test, scaler=scaler)\n",
    "\n",
    "knn_scores['Accuracy'].append(accuracy)\n",
    "knn_scores['Precision'].append(precision)\n",
    "knn_scores['Recall'].append(recall)"
   ]
  },
  {
   "cell_type": "code",
   "execution_count": null,
   "id": "opponent-valuable",
   "metadata": {},
   "outputs": [],
   "source": [
    "print('KNN metrics using MinMaxScaler and Hyperparameters tuning')\n",
    "scaler = StandardScaler()\n",
    "clf = get_trained_model(getModel(knn), X_train, Y_train, scaler=scaler, param_grid=knn_params)\n",
    "predict(clf, X_vald, Y_vald, scaler=scaler)\n",
    "\n",
    "print('Final test...')\n",
    "predict(clf, X_test, Y_test, scaler=scaler)\n",
    "\n",
    "knn_scores['Accuracy'].append(accuracy)\n",
    "knn_scores['Precision'].append(precision)\n",
    "knn_scores['Recall'].append(recall)"
   ]
  },
  {
   "cell_type": "code",
   "execution_count": null,
   "id": "dirty-newsletter",
   "metadata": {},
   "outputs": [],
   "source": [
    "knn_scores = pd.DataFrame(knn_scores)\n",
    "knn_scores.drop_duplicates(inplace=True)\n",
    "knn_scores"
   ]
  },
  {
   "cell_type": "code",
   "execution_count": null,
   "id": "tired-concord",
   "metadata": {},
   "outputs": [],
   "source": [
    "knn_best_score = knn_scores.loc[knn_scores['Accuracy'] ==  max(knn_scores['Accuracy'])]\n",
    "knn_best_score"
   ]
  },
  {
   "cell_type": "markdown",
   "id": "proprietary-arena",
   "metadata": {},
   "source": [
    "### SVM"
   ]
  },
  {
   "cell_type": "code",
   "execution_count": null,
   "id": "welsh-documentary",
   "metadata": {},
   "outputs": [],
   "source": [
    "svc = \"svc\""
   ]
  },
  {
   "cell_type": "code",
   "execution_count": null,
   "id": "selected-grace",
   "metadata": {},
   "outputs": [],
   "source": [
    "print('SVM metrics without scaling...')\n",
    "clf = get_trained_model(getModel(svc), X_train, Y_train)\n",
    "predict(clf, X_vald, Y_vald)\n",
    "\n",
    "print('Final test...')\n",
    "predict(clf, X_test, Y_test)"
   ]
  },
  {
   "cell_type": "code",
   "execution_count": null,
   "id": "novel-hawaii",
   "metadata": {},
   "outputs": [],
   "source": [
    "print('SVM metrics using MinMaxScaler...')\n",
    "scaler = MinMaxScaler()\n",
    "clf = get_trained_model(getModel(svc), X_train, Y_train, scaler=scaler)\n",
    "predict(clf, X_vald, Y_vald, scaler=scaler)\n",
    "\n",
    "print('Final test...')\n",
    "predict(clf, X_test, Y_test, scaler=scaler)"
   ]
  },
  {
   "cell_type": "code",
   "execution_count": null,
   "id": "cultural-savannah",
   "metadata": {},
   "outputs": [],
   "source": [
    "print('SVM metrics using StandardScaler...')\n",
    "scaler = StandardScaler()\n",
    "clf = get_trained_model(getModel(svc), X_train, Y_train, scaler=scaler)\n",
    "predict(clf, X_vald, Y_vald, scaler=scaler)\n",
    "\n",
    "print('Final test...')\n",
    "predict(clf, X_test, Y_test, scaler=scaler)"
   ]
  },
  {
   "cell_type": "markdown",
   "id": "decimal-hughes",
   "metadata": {},
   "source": [
    "## HyperParameter Tuning"
   ]
  },
  {
   "cell_type": "code",
   "execution_count": null,
   "id": "paperback-concrete",
   "metadata": {},
   "outputs": [],
   "source": [
    "param_grid = {'C': [0.001, 0.01, 0.1, 1, 10], \n",
    "              'gamma': [1, 0.1, 0.01, 0.001, 0.0001],\n",
    "              'kernel': ['rbf', 'linear']} "
   ]
  },
  {
   "cell_type": "code",
   "execution_count": null,
   "id": "digital-collapse",
   "metadata": {},
   "outputs": [],
   "source": [
    "print('SVM metrics without scaling...')\n",
    "clf = get_trained_model(getModel(svc), X_train, Y_train, withHyperparameterTuning=True, param_grid=param_grid)\n",
    "predict(clf, X_vald, Y_vald)\n",
    "\n",
    "print('Final test...')\n",
    "predict(clf, X_test, Y_test)"
   ]
  },
  {
   "cell_type": "code",
   "execution_count": null,
   "id": "classical-emphasis",
   "metadata": {},
   "outputs": [],
   "source": [
    "print('SVM metrics using MinMaxScaler...')\n",
    "scaler = MinMaxScaler()\n",
    "clf = get_trained_model(getModel(svm), X_train, Y_train, scaler=scaler, withHyperparameterTuning=True, param_grid=param_grid)\n",
    "predict(clf, X_vald, Y_vald, scaler=scaler)\n",
    "\n",
    "print('Final test...')\n",
    "predict(clf, X_test, Y_test, scaler=scaler)"
   ]
  },
  {
   "cell_type": "code",
   "execution_count": null,
   "id": "green-baseline",
   "metadata": {},
   "outputs": [],
   "source": [
    "print('SVM metrics using StandardScaler...')\n",
    "scaler = StandardScaler()\n",
    "clf = get_trained_model(getModel(svm), X_train, Y_train, scaler=scaler, withHyperparameterTuning=True, param_grid=param_grid)\n",
    "predict(clf, X_vald, Y_vald, scaler=scaler)\n",
    "\n",
    "print('Final test...')\n",
    "predict(clf, X_test, Y_test, scaler=scaler)"
   ]
  },
  {
   "cell_type": "code",
   "execution_count": null,
   "id": "productive-phase",
   "metadata": {},
   "outputs": [],
   "source": []
  },
  {
   "cell_type": "markdown",
   "id": "minimal-vehicle",
   "metadata": {},
   "source": [
    "### Final Results"
   ]
  },
  {
   "cell_type": "code",
   "execution_count": null,
   "id": "injured-disorder",
   "metadata": {},
   "outputs": [],
   "source": [
    "results = pd.DataFrame({'models': [\"Logistic Regression\", \"Decision Tree\", \"Random Forest\",\"KNN\", \"SVM\"],\n",
    "                           'accuracies': [accuracy_score(y_test,pred_svc),accuracy_score(y_test,pred_rfc),accuracy_score(y_test,pred_knn)]})\n",
    "results"
   ]
  }
 ],
 "metadata": {
  "kernelspec": {
   "display_name": "Python 3",
   "language": "python",
   "name": "python3"
  },
  "language_info": {
   "codemirror_mode": {
    "name": "ipython",
    "version": 3
   },
   "file_extension": ".py",
   "mimetype": "text/x-python",
   "name": "python",
   "nbconvert_exporter": "python",
   "pygments_lexer": "ipython3",
   "version": "3.8.6rc1"
  }
 },
 "nbformat": 4,
 "nbformat_minor": 5
}
